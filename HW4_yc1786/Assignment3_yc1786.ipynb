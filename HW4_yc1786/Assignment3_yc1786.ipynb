{
 "cells": [
  {
   "cell_type": "markdown",
   "metadata": {},
   "source": [
    "- Null Hypothesis: A (fictitious) implementation of an alternative bus route for (fictitious) bus line X8 will not improve circulation or negatively affect circulation.\n",
    "- Alternatice Hypothesis: A (fictitious) implementation of an alternative bus route for (fictitious) bus line X8 improves circulation.\n",
    "- H_0 = P_0 - P_1 <= 0\n",
    "- H_a = P_0 - P_1  >0\n",
    "- P_0 is the population bus route time, P_1 is the sample bus route time"
   ]
  },
  {
   "cell_type": "code",
   "execution_count": 66,
   "metadata": {},
   "outputs": [],
   "source": [
    "import numpy as np\n",
    "from math import sqrt"
   ]
  },
  {
   "cell_type": "code",
   "execution_count": 67,
   "metadata": {},
   "outputs": [
    {
     "name": "stdout",
     "output_type": "stream",
     "text": [
      "array([31.62223931, 32.82137636, 30.2291014 , 31.41376587, 39.01055035,\n",
      "       34.82207891, 39.87188366, 39.57994562, 31.02658678, 27.66246068,\n",
      "       18.8752884 , 46.2313731 , 30.01522604, 47.6004104 , 16.52726666,\n",
      "       42.4462331 , 33.62527449, 42.28462558, 46.20520667, 30.87517392,\n",
      "       32.94800341, 26.17691512, 31.25699649, 35.33644554, 35.64072501,\n",
      "       40.32297174, 38.04348588, 29.4579793 , 23.91636367, 34.56403521,\n",
      "       45.42782464, 38.95607754, 39.11396748, 39.67398759, 31.89148105,\n",
      "       22.62379325, 26.18910408, 43.54114213, 33.2607386 , 31.67602384,\n",
      "       37.12846259, 38.22048496, 34.38814185, 36.11407371, 44.08064814,\n",
      "       29.59917161, 37.02411751, 41.60576556, 44.37860528, 38.06471077,\n",
      "       22.90526456, 40.27182857, 31.57979239, 25.88037795, 28.8913048 ,\n",
      "       44.33687925, 36.78948684, 43.46098875, 40.65557   , 26.16634004,\n",
      "       25.13884784, 33.01581456, 32.87050073, 26.28557154, 39.44933037,\n",
      "       36.25528612, 40.719133  , 40.57181545, 19.87166413, 43.21925286,\n",
      "       31.48102823, 37.14915056, 38.991504  , 20.53059384, 27.80447692,\n",
      "       38.69933298, 30.0223142 , 38.64884169, 26.40668884, 32.10224978,\n",
      "       28.31532754, 43.26195884, 40.3609407 , 37.3025258 , 31.45110181,\n",
      "       38.79599524, 36.92553372, 32.37167945, 23.25835631, 26.42613261,\n",
      "       48.74987653, 31.42512354, 46.80679298, 30.59748648, 20.7926322 ,\n",
      "       26.19785226, 42.7274097 , 33.7314695 , 37.23859057, 36.33984141])\n"
     ]
    }
   ],
   "source": [
    "test = np.loadtxt('times.txt')\n",
    "print (np.array_repr(mymatrix))"
   ]
  },
  {
   "cell_type": "code",
   "execution_count": 68,
   "metadata": {},
   "outputs": [],
   "source": [
    "mean_sample = np.mean(test)\n",
    "mean_pop = 36\n",
    "std = 6"
   ]
  },
  {
   "cell_type": "code",
   "execution_count": 69,
   "metadata": {},
   "outputs": [
    {
     "data": {
      "text/plain": [
       "36"
      ]
     },
     "execution_count": 69,
     "metadata": {},
     "output_type": "execute_result"
    }
   ],
   "source": [
    "mean_pop"
   ]
  },
  {
   "cell_type": "code",
   "execution_count": 70,
   "metadata": {},
   "outputs": [
    {
     "name": "stdout",
     "output_type": "stream",
     "text": [
      "2.55639718616667\n"
     ]
    }
   ],
   "source": [
    "Z = (mean_pop  - mean_sample)/(std/sqrt(len(test)))\n",
    "print(Z)"
   ]
  },
  {
   "cell_type": "code",
   "execution_count": 71,
   "metadata": {},
   "outputs": [
    {
     "data": {
      "text/plain": [
       "0.9947118839779342"
      ]
     },
     "execution_count": 71,
     "metadata": {},
     "output_type": "execute_result"
    }
   ],
   "source": [
    "import scipy.stats as st\n",
    "st.norm.cdf(Z)"
   ]
  },
  {
   "cell_type": "markdown",
   "metadata": {},
   "source": [
    "Since Z-score is over 2 sigma, which imply the sample is not included in 95% percentile. Therefore, we reject the null hypothesis that the (fictitious) implementation of an alternative bus route for (fictitious) bus line X8 will not improve circulation or negatively affect circulation.."
   ]
  }
 ],
 "metadata": {
  "kernelspec": {
   "display_name": "Python 3",
   "language": "python",
   "name": "python3"
  },
  "language_info": {
   "codemirror_mode": {
    "name": "ipython",
    "version": 3
   },
   "file_extension": ".py",
   "mimetype": "text/x-python",
   "name": "python",
   "nbconvert_exporter": "python",
   "pygments_lexer": "ipython3",
   "version": "3.6.5"
  }
 },
 "nbformat": 4,
 "nbformat_minor": 2
}
